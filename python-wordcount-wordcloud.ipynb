{
 "cells": [
  {
   "cell_type": "markdown",
   "metadata": {},
   "source": [
    "# 명사 추출"
   ]
  },
  {
   "cell_type": "code",
   "execution_count": 42,
   "metadata": {
    "scrolled": true
   },
   "outputs": [
    {
     "name": "stdout",
     "output_type": "stream",
     "text": [
      "['아우', '앵버', '레고', '기하', '자동차', '리뷰', '흠', '얼릉', '진짜', '언제', '개봉', '기대', '꺄', '것', '앵그리버드', '귀여웡', '영화', '꿀잼', '대중', '어른', '재미', '질', '거', '볼', '영화', '조카', '데리', '악', '저', '씨', '컬', '레드', '왜', '능', '대박', '욤', '알', '무조건', '애', '지금', '개봉', '사발면', '편의점', '울', '아들', '벌써', '대만', '땅', '어린이', '인기', '더', '앵그리버드', '영화', '무리', '대중', '일본', '유럽', '극장판', '애니메이션', '영화', '앵그리버드']\n",
      "<class 'list'>\n"
     ]
    },
    {
     "name": "stderr",
     "output_type": "stream",
     "text": [
      "C:\\ProgramData\\Anaconda3\\lib\\site-packages\\konlpy\\tag\\_okt.py:16: UserWarning: \"Twitter\" has changed to \"Okt\" since KoNLPy v0.4.5.\n",
      "  warn('\"Twitter\" has changed to \"Okt\" since KoNLPy v0.4.5.')\n"
     ]
    }
   ],
   "source": [
    "from konlpy.tag import Kkma\n",
    " \n",
    "f = open(\"m1.txt\", \"r\")\n",
    "lines = f.read()\n",
    "nlpy = Twitter()\n",
    "nouns = nlpy.nouns(lines)\n",
    "print(nouns)\n"
   ]
  },
  {
   "cell_type": "markdown",
   "metadata": {},
   "source": []
  },
  {
   "cell_type": "markdown",
   "metadata": {},
   "source": [
    "#  명사 개수 카운트 하는 첫번째 방법"
   ]
  },
  {
   "cell_type": "code",
   "execution_count": 33,
   "metadata": {},
   "outputs": [
    {
     "name": "stdout",
     "output_type": "stream",
     "text": [
      " 영화            \t4\n",
      " 앵그리버드         \t3\n",
      " 개봉            \t2\n",
      " 대중            \t2\n",
      " 아우            \t1\n",
      " 앵버            \t1\n",
      " 레고            \t1\n",
      " 기하            \t1\n",
      " 자동차           \t1\n",
      " 리뷰            \t1\n",
      " 얼릉            \t1\n",
      " 진짜            \t1\n",
      " 언제            \t1\n",
      " 기대            \t1\n",
      " 귀여웡           \t1\n",
      " 꿀잼            \t1\n",
      " 어른            \t1\n",
      " 재미            \t1\n",
      " 조카            \t1\n",
      " 데리            \t1\n",
      " 레드            \t1\n",
      " 대박            \t1\n",
      " 무조건           \t1\n",
      " 지금            \t1\n",
      " 사발면           \t1\n",
      " 편의점           \t1\n",
      " 아들            \t1\n",
      " 벌써            \t1\n",
      " 대만            \t1\n",
      " 어린이           \t1\n",
      " 인기            \t1\n",
      " 무리            \t1\n",
      " 일본            \t1\n",
      " 유럽            \t1\n",
      " 극장판           \t1\n",
      " 애니메이션         \t1\n"
     ]
    }
   ],
   "source": [
    "from collections import Counter\n",
    "\n",
    "count = Counter(nouns)\n",
    "tag_count = []\n",
    "tags = []\n",
    "\n",
    "for n, c in count.most_common(100):\n",
    "    dics = {'tag': n, 'count': c}\n",
    "    if len(dics['tag']) >= 2 and len(tags) <= 49:\n",
    "        tag_count.append(dics)\n",
    "        tags.append(dics['tag'])\n",
    "    \n",
    "for tag in tag_count:\n",
    "    print(\" {:<14}\".format(tag['tag']), end='\\t')\n",
    "    print(\"{}\".format(tag['count']))"
   ]
  },
  {
   "cell_type": "markdown",
   "metadata": {},
   "source": [
    "# 두번째 방법"
   ]
  },
  {
   "cell_type": "code",
   "execution_count": 57,
   "metadata": {},
   "outputs": [
    {
     "data": {
      "text/plain": [
       "{'영화': 4,\n",
       " '앵그리버드': 3,\n",
       " '개봉': 2,\n",
       " '대중': 2,\n",
       " '아우': 1,\n",
       " '앵버': 1,\n",
       " '레고': 1,\n",
       " '기하': 1,\n",
       " '자동차': 1,\n",
       " '리뷰': 1,\n",
       " '흠': 1,\n",
       " '얼릉': 1,\n",
       " '진짜': 1,\n",
       " '언제': 1,\n",
       " '기대': 1,\n",
       " '꺄': 1,\n",
       " '것': 1,\n",
       " '귀여웡': 1,\n",
       " '꿀잼': 1,\n",
       " '어른': 1,\n",
       " '재미': 1,\n",
       " '질': 1,\n",
       " '거': 1,\n",
       " '볼': 1,\n",
       " '조카': 1,\n",
       " '데리': 1,\n",
       " '악': 1,\n",
       " '저': 1,\n",
       " '씨': 1,\n",
       " '컬': 1,\n",
       " '레드': 1,\n",
       " '왜': 1,\n",
       " '능': 1,\n",
       " '대박': 1,\n",
       " '욤': 1,\n",
       " '알': 1,\n",
       " '무조건': 1,\n",
       " '애': 1,\n",
       " '지금': 1,\n",
       " '사발면': 1,\n",
       " '편의점': 1,\n",
       " '울': 1,\n",
       " '아들': 1,\n",
       " '벌써': 1,\n",
       " '대만': 1,\n",
       " '땅': 1,\n",
       " '어린이': 1,\n",
       " '인기': 1,\n",
       " '더': 1,\n",
       " '무리': 1,\n",
       " '일본': 1,\n",
       " '유럽': 1,\n",
       " '극장판': 1,\n",
       " '애니메이션': 1}"
      ]
     },
     "execution_count": 57,
     "metadata": {},
     "output_type": "execute_result"
    }
   ],
   "source": [
    "words = dict(count.most_common())\n",
    "words"
   ]
  },
  {
   "cell_type": "markdown",
   "metadata": {},
   "source": [
    "# Word cloud 사용"
   ]
  },
  {
   "cell_type": "markdown",
   "metadata": {},
   "source": [
    "### 한글은 깨지기 때문에 꼮꼮 font_path를 원하는 한글폰트 넣어주세요"
   ]
  },
  {
   "cell_type": "code",
   "execution_count": 68,
   "metadata": {
    "scrolled": true
   },
   "outputs": [
    {
     "data": {
      "image/png": "[encoded data removed]",
      "text/plain": [
       "<Figure size 432x288 with 1 Axes>"
      ]
     },
     "metadata": {
      "needs_background": "light"
     },
     "output_type": "display_data"
    }
   ],
   "source": [
    "from wordcloud import WordCloud\n",
    "import matplotlib.pyplot as plt\n",
    "%matplotlib inline\n",
    "wordcloud = WordCloud(font_path = 'C:/NanumBarunGothic.ttf',background_color='white', width=1500, height=1000).generate_from_frequencies(words) \n",
    "plt.imshow(wordcloud) \n",
    "plt.axis('off') \n",
    "plt.show()"
   ]
  },
  {
   "cell_type": "code",
   "execution_count": null,
   "metadata": {
    "scrolled": true
   },
   "outputs": [],
   "source": []
  },
  {
   "cell_type": "code",
   "execution_count": null,
   "metadata": {},
   "outputs": [],
   "source": []
  },
  {
   "cell_type": "code",
   "execution_count": null,
   "metadata": {},
   "outputs": [],
   "source": []
  }
 ],
 "metadata": {
  "kernelspec": {
   "display_name": "Python 3",
   "language": "python",
   "name": "python3"
  },
  "language_info": {
   "codemirror_mode": {
    "name": "ipython",
    "version": 3
   },
   "file_extension": ".py",
   "mimetype": "text/x-python",
   "name": "python",
   "nbconvert_exporter": "python",
   "pygments_lexer": "ipython3",
   "version": "3.7.4"
  }
 },
 "nbformat": 4,
 "nbformat_minor": 2
}
